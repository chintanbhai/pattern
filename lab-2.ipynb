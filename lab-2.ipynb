{
 "cells": [
  {
   "cell_type": "markdown",
   "id": "6fe7a716",
   "metadata": {
    "_cell_guid": "b1076dfc-b9ad-4769-8c92-a6c4dae69d19",
    "_uuid": "8f2839f25d086af736a60e9eeb907d3b93b6e0e5",
    "execution": {
     "iopub.execute_input": "2023-09-01T11:02:34.866464Z",
     "iopub.status.busy": "2023-09-01T11:02:34.865035Z",
     "iopub.status.idle": "2023-09-01T11:02:34.875556Z",
     "shell.execute_reply": "2023-09-01T11:02:34.873721Z",
     "shell.execute_reply.started": "2023-09-01T11:02:34.866411Z"
    },
    "papermill": {
     "duration": 0.006472,
     "end_time": "2023-09-01T11:30:14.112382",
     "exception": false,
     "start_time": "2023-09-01T11:30:14.105910",
     "status": "completed"
    },
    "tags": []
   },
   "source": [
    "1. To convert a list of numeric values into a \n",
    "one-dimensional NumPy array"
   ]
  },
  {
   "cell_type": "code",
   "execution_count": 1,
   "id": "b2b5924b",
   "metadata": {
    "execution": {
     "iopub.execute_input": "2023-09-01T11:30:14.123168Z",
     "iopub.status.busy": "2023-09-01T11:30:14.122492Z",
     "iopub.status.idle": "2023-09-01T11:30:14.135164Z",
     "shell.execute_reply": "2023-09-01T11:30:14.133884Z"
    },
    "papermill": {
     "duration": 0.02118,
     "end_time": "2023-09-01T11:30:14.138247",
     "exception": false,
     "start_time": "2023-09-01T11:30:14.117067",
     "status": "completed"
    },
    "tags": []
   },
   "outputs": [
    {
     "name": "stdout",
     "output_type": "stream",
     "text": [
      "[1 2 3 4 5]\n",
      "<class 'numpy.ndarray'>\n"
     ]
    }
   ],
   "source": [
    "# 216270307028\n",
    "# Hasan Ravda\n",
    "\n",
    "import numpy as np\n",
    "\n",
    "# To convert a list of numeric values into a one-dimensional NumPy array\n",
    "a=np.array([1,2,3,4,5])\n",
    "print(a)\n",
    "print(type(a))"
   ]
  },
  {
   "cell_type": "markdown",
   "id": "6caffe97",
   "metadata": {
    "papermill": {
     "duration": 0.003709,
     "end_time": "2023-09-01T11:30:14.146069",
     "exception": false,
     "start_time": "2023-09-01T11:30:14.142360",
     "status": "completed"
    },
    "tags": []
   },
   "source": [
    "2. To create a 3x3 matrix with values ranging \n",
    "from 2 to 10"
   ]
  },
  {
   "cell_type": "code",
   "execution_count": 2,
   "id": "cb76b368",
   "metadata": {
    "execution": {
     "iopub.execute_input": "2023-09-01T11:30:14.155907Z",
     "iopub.status.busy": "2023-09-01T11:30:14.155433Z",
     "iopub.status.idle": "2023-09-01T11:30:14.161462Z",
     "shell.execute_reply": "2023-09-01T11:30:14.160210Z"
    },
    "papermill": {
     "duration": 0.014223,
     "end_time": "2023-09-01T11:30:14.164270",
     "exception": false,
     "start_time": "2023-09-01T11:30:14.150047",
     "status": "completed"
    },
    "tags": []
   },
   "outputs": [
    {
     "name": "stdout",
     "output_type": "stream",
     "text": [
      "[[ 2  3  4]\n",
      " [ 5  6  7]\n",
      " [ 8  9 10]]\n"
     ]
    }
   ],
   "source": [
    "a3=np.array([[2,3,4],[5,6,7],[8,9,10]])\n",
    "print(a3)"
   ]
  },
  {
   "cell_type": "markdown",
   "id": "47378411",
   "metadata": {
    "papermill": {
     "duration": 0.003799,
     "end_time": "2023-09-01T11:30:14.172151",
     "exception": false,
     "start_time": "2023-09-01T11:30:14.168352",
     "status": "completed"
    },
    "tags": []
   },
   "source": [
    "3. To append values at the end of an array"
   ]
  },
  {
   "cell_type": "code",
   "execution_count": 3,
   "id": "82693bbf",
   "metadata": {
    "execution": {
     "iopub.execute_input": "2023-09-01T11:30:14.182061Z",
     "iopub.status.busy": "2023-09-01T11:30:14.181662Z",
     "iopub.status.idle": "2023-09-01T11:30:14.186765Z",
     "shell.execute_reply": "2023-09-01T11:30:14.185784Z"
    },
    "papermill": {
     "duration": 0.01346,
     "end_time": "2023-09-01T11:30:14.189570",
     "exception": false,
     "start_time": "2023-09-01T11:30:14.176110",
     "status": "completed"
    },
    "tags": []
   },
   "outputs": [
    {
     "name": "stdout",
     "output_type": "stream",
     "text": [
      "[1 2 3 4 5 6 7 8]\n"
     ]
    }
   ],
   "source": [
    "newa=np.append(a,[6,7,8])\n",
    "print(newa)"
   ]
  },
  {
   "cell_type": "markdown",
   "id": "5a0d857f",
   "metadata": {
    "papermill": {
     "duration": 0.003729,
     "end_time": "2023-09-01T11:30:14.197377",
     "exception": false,
     "start_time": "2023-09-01T11:30:14.193648",
     "status": "completed"
    },
    "tags": []
   },
   "source": [
    "4. To create another shape from an array \n",
    "without changing its data (3x2 to 2x3) "
   ]
  },
  {
   "cell_type": "code",
   "execution_count": 4,
   "id": "d195333e",
   "metadata": {
    "execution": {
     "iopub.execute_input": "2023-09-01T11:30:14.207007Z",
     "iopub.status.busy": "2023-09-01T11:30:14.206623Z",
     "iopub.status.idle": "2023-09-01T11:30:14.212492Z",
     "shell.execute_reply": "2023-09-01T11:30:14.211412Z"
    },
    "papermill": {
     "duration": 0.013718,
     "end_time": "2023-09-01T11:30:14.215002",
     "exception": false,
     "start_time": "2023-09-01T11:30:14.201284",
     "status": "completed"
    },
    "tags": []
   },
   "outputs": [
    {
     "name": "stdout",
     "output_type": "stream",
     "text": [
      "3x2 Array : \n",
      " [[1 2]\n",
      " [3 4]\n",
      " [5 6]]\n",
      "2x3 Array : \n",
      " [[1 2 3]\n",
      " [4 5 6]]\n"
     ]
    }
   ],
   "source": [
    "arr=np.array([[1,2],[3,4],[5,6]])\n",
    "print(\"3x2 Array : \\n\",arr)\n",
    "\n",
    "arr2=arr.reshape(2,3)\n",
    "print(\"2x3 Array : \\n\",arr2)"
   ]
  }
 ],
 "kernelspec": {
  "display_name": "Python 3",
  "language": "python",
  "name": "python3"
 },
 "language_info": {
  "codemirror_mode": {
   "name": "ipython",
   "version": 3
  },
  "file_extension": ".py",
  "mimetype": "text/x-python",
  "name": "python",
  "nbconvert_exporter": "python",
  "pygments_lexer": "ipython3",
  "version": "3.6.4"
 },
 "metadata": {
  "kernelspec": {
   "display_name": "Python 3",
   "language": "python",
   "name": "python3"
  },
  "language_info": {
   "codemirror_mode": {
    "name": "ipython",
    "version": 3
   },
   "file_extension": ".py",
   "mimetype": "text/x-python",
   "name": "python",
   "nbconvert_exporter": "python",
   "pygments_lexer": "ipython3",
   "version": "3.10.12"
  },
  "papermill": {
   "default_parameters": {},
   "duration": 3.886422,
   "end_time": "2023-09-01T11:30:14.639893",
   "environment_variables": {},
   "exception": null,
   "input_path": "__notebook__.ipynb",
   "output_path": "__notebook__.ipynb",
   "parameters": {},
   "start_time": "2023-09-01T11:30:10.753471",
   "version": "2.4.0"
  }
 },
 "nbformat": 4,
 "nbformat_minor": 5
}
